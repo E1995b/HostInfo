{
 "cells": [
  {
   "cell_type": "code",
   "execution_count": null,
   "metadata": {},
   "outputs": [],
   "source": [
    "import socket\n",
    "def HostInfo():\n",
    "host_name = socket.gethostname()\n",
    "ip_address = socket.gethostbyname('localhost')\n",
    "print (\"Host name: %s\" %host_name)\n",
    "print (\"IP address: %s\" %ip_address)"
   ]
  }
 ],
 "metadata": {
  "language_info": {
   "name": "python"
  },
  "orig_nbformat": 4
 },
 "nbformat": 4,
 "nbformat_minor": 2
}
